{
  "nbformat": 4,
  "nbformat_minor": 0,
  "metadata": {
    "colab": {
      "name": "DS_Unit_1_Sprint_Challenge_2_Data_Wrangling_and_Storytelling.ipynb",
      "provenance": [],
      "collapsed_sections": [],
      "include_colab_link": true
    },
    "kernelspec": {
      "display_name": "Python 3",
      "language": "python",
      "name": "python3"
    },
    "language_info": {
      "codemirror_mode": {
        "name": "ipython",
        "version": 3
      },
      "file_extension": ".py",
      "mimetype": "text/x-python",
      "name": "python",
      "nbconvert_exporter": "python",
      "pygments_lexer": "ipython3",
      "version": "3.7.4"
    }
  },
  "cells": [
    {
      "cell_type": "markdown",
      "metadata": {
        "id": "view-in-github",
        "colab_type": "text"
      },
      "source": [
        "<a href=\"https://colab.research.google.com/github/jduell12/DS-Unit-1-Sprint-1-Data-Wrangling-and-Storytelling-1/blob/master/Complete_DS_Unit_1_Sprint_Challenge_2_Data_Wrangling_and_Storytelling.ipynb\" target=\"_parent\"><img src=\"https://colab.research.google.com/assets/colab-badge.svg\" alt=\"Open In Colab\"/></a>"
      ]
    },
    {
      "cell_type": "markdown",
      "metadata": {
        "id": "4yMHi_PX9hEz"
      },
      "source": [
        "# Data Science Unit 1 Sprint Challenge 2\n",
        "\n",
        "## Data Wrangling and Storytelling\n",
        "\n",
        "Taming data from its raw form into informative insights and stories."
      ]
    },
    {
      "cell_type": "markdown",
      "metadata": {
        "id": "9wIvtOss9H_i"
      },
      "source": [
        "## Data Wrangling\n",
        "\n",
        "In this Sprint Challenge you will first \"wrangle\" some data from [Gapminder](https://www.gapminder.org/about-gapminder/), a Swedish non-profit co-founded by Hans Rosling. \"Gapminder produces free teaching resources making the world understandable based on reliable statistics.\"\n",
        "- [Cell phones (total), by country and year](https://raw.githubusercontent.com/open-numbers/ddf--gapminder--systema_globalis/master/ddf--datapoints--cell_phones_total--by--geo--time.csv)\n",
        "- [Population (total), by country and year](https://raw.githubusercontent.com/open-numbers/ddf--gapminder--systema_globalis/master/ddf--datapoints--population_total--by--geo--time.csv)\n",
        "- [Geo country codes](https://github.com/open-numbers/ddf--gapminder--systema_globalis/blob/master/ddf--entities--geo--country.csv)\n",
        "\n",
        "These two links have everything you need to successfully complete the first part of this sprint challenge.\n",
        "- [Pandas documentation: Working with Text Data](https://pandas.pydata.org/pandas-docs/stable/text.html) (one question)\n",
        "- [Pandas Cheat Sheet](https://github.com/pandas-dev/pandas/blob/master/doc/cheatsheet/Pandas_Cheat_Sheet.pdf) (everything else)"
      ]
    },
    {
      "cell_type": "markdown",
      "metadata": {
        "id": "wWEU2GemX68A"
      },
      "source": [
        "### Part 0. Load data\n",
        "\n",
        "You don't need to add or change anything here. Just run this cell and it loads the data for you, into three dataframes."
      ]
    },
    {
      "cell_type": "code",
      "metadata": {
        "id": "bxKtSi5sRQOl",
        "colab": {
          "base_uri": "https://localhost:8080/",
          "height": 445
        },
        "outputId": "c77af106-f640-4433-dc38-07ed21c61711"
      },
      "source": [
        "import pandas as pd \n",
        "\n",
        "cell_phones = pd.read_csv('https://raw.githubusercontent.com/open-numbers/ddf--gapminder--gapminder_world/master/ddf--datapoints--cell_phones_total--by--geo--time.csv')\n",
        "population = pd.read_csv('https://raw.githubusercontent.com/open-numbers/ddf--gapminder--population_historic/master/ddf--datapoints--population_total--by--geo--time.csv')\n",
        "geo_country_codes = pd.read_csv('https://raw.githubusercontent.com/open-numbers/ddf--gapminder--population_historic/master/ddf--entities--geo--country.csv')\n",
        "geo_country_codes = geo_country_codes.rename(columns={'country': 'geo', 'name': 'country'})\n",
        "\n",
        "print(cell_phones.head())\n",
        "print(population.head())\n",
        "geo_country_codes.head()"
      ],
      "execution_count": 1,
      "outputs": [
        {
          "output_type": "stream",
          "text": [
            "   cell_phones_total  geo  time\n",
            "0                  0  afg  1965\n",
            "1                  0  afg  1970\n",
            "2                  0  afg  1975\n",
            "3                  0  afg  1976\n",
            "4                  0  afg  1977\n",
            "   geo  time  population_total\n",
            "0  afg  1800           3280000\n",
            "1  afg  1801           3280000\n",
            "2  afg  1802           3280000\n",
            "3  afg  1803           3280000\n",
            "4  afg  1804           3280000\n"
          ],
          "name": "stdout"
        },
        {
          "output_type": "execute_result",
          "data": {
            "text/html": [
              "<div>\n",
              "<style scoped>\n",
              "    .dataframe tbody tr th:only-of-type {\n",
              "        vertical-align: middle;\n",
              "    }\n",
              "\n",
              "    .dataframe tbody tr th {\n",
              "        vertical-align: top;\n",
              "    }\n",
              "\n",
              "    .dataframe thead th {\n",
              "        text-align: right;\n",
              "    }\n",
              "</style>\n",
              "<table border=\"1\" class=\"dataframe\">\n",
              "  <thead>\n",
              "    <tr style=\"text-align: right;\">\n",
              "      <th></th>\n",
              "      <th>geo</th>\n",
              "      <th>g77_and_oecd_countries</th>\n",
              "      <th>income_groups</th>\n",
              "      <th>is--country</th>\n",
              "      <th>iso3166_1_alpha2</th>\n",
              "      <th>unicode_region_subtag</th>\n",
              "      <th>iso3166_1_alpha3</th>\n",
              "      <th>iso3166_1_numeric</th>\n",
              "      <th>iso3166_2</th>\n",
              "      <th>landlocked</th>\n",
              "      <th>latitude</th>\n",
              "      <th>longitude</th>\n",
              "      <th>main_religion_2008</th>\n",
              "      <th>country</th>\n",
              "      <th>un_state</th>\n",
              "      <th>world_4region</th>\n",
              "      <th>world_6region</th>\n",
              "      <th>unicef_region</th>\n",
              "      <th>income_3groups</th>\n",
              "      <th>un_sdg_region</th>\n",
              "      <th>un_sdg_ldc</th>\n",
              "    </tr>\n",
              "  </thead>\n",
              "  <tbody>\n",
              "    <tr>\n",
              "      <th>0</th>\n",
              "      <td>abkh</td>\n",
              "      <td>others</td>\n",
              "      <td>NaN</td>\n",
              "      <td>True</td>\n",
              "      <td>NaN</td>\n",
              "      <td>NaN</td>\n",
              "      <td>NaN</td>\n",
              "      <td>NaN</td>\n",
              "      <td>NaN</td>\n",
              "      <td>NaN</td>\n",
              "      <td>NaN</td>\n",
              "      <td>NaN</td>\n",
              "      <td>NaN</td>\n",
              "      <td>Abkhazia</td>\n",
              "      <td>False</td>\n",
              "      <td>europe</td>\n",
              "      <td>europe_central_asia</td>\n",
              "      <td>NaN</td>\n",
              "      <td>NaN</td>\n",
              "      <td>NaN</td>\n",
              "      <td>NaN</td>\n",
              "    </tr>\n",
              "    <tr>\n",
              "      <th>1</th>\n",
              "      <td>abw</td>\n",
              "      <td>others</td>\n",
              "      <td>high_income</td>\n",
              "      <td>True</td>\n",
              "      <td>AW</td>\n",
              "      <td>AW</td>\n",
              "      <td>ABW</td>\n",
              "      <td>533.0</td>\n",
              "      <td>NaN</td>\n",
              "      <td>coastline</td>\n",
              "      <td>12.50000</td>\n",
              "      <td>-69.96667</td>\n",
              "      <td>christian</td>\n",
              "      <td>Aruba</td>\n",
              "      <td>False</td>\n",
              "      <td>americas</td>\n",
              "      <td>america</td>\n",
              "      <td>NaN</td>\n",
              "      <td>high_income</td>\n",
              "      <td>un_latin_america_and_the_caribbean</td>\n",
              "      <td>un_not_least_developed</td>\n",
              "    </tr>\n",
              "    <tr>\n",
              "      <th>2</th>\n",
              "      <td>afg</td>\n",
              "      <td>g77</td>\n",
              "      <td>low_income</td>\n",
              "      <td>True</td>\n",
              "      <td>AF</td>\n",
              "      <td>AF</td>\n",
              "      <td>AFG</td>\n",
              "      <td>4.0</td>\n",
              "      <td>NaN</td>\n",
              "      <td>landlocked</td>\n",
              "      <td>33.00000</td>\n",
              "      <td>66.00000</td>\n",
              "      <td>muslim</td>\n",
              "      <td>Afghanistan</td>\n",
              "      <td>True</td>\n",
              "      <td>asia</td>\n",
              "      <td>south_asia</td>\n",
              "      <td>sa</td>\n",
              "      <td>low_income</td>\n",
              "      <td>un_central_and_southern_asia</td>\n",
              "      <td>un_least_developed</td>\n",
              "    </tr>\n",
              "    <tr>\n",
              "      <th>3</th>\n",
              "      <td>ago</td>\n",
              "      <td>g77</td>\n",
              "      <td>lower_middle_income</td>\n",
              "      <td>True</td>\n",
              "      <td>AO</td>\n",
              "      <td>AO</td>\n",
              "      <td>AGO</td>\n",
              "      <td>24.0</td>\n",
              "      <td>NaN</td>\n",
              "      <td>coastline</td>\n",
              "      <td>-12.50000</td>\n",
              "      <td>18.50000</td>\n",
              "      <td>christian</td>\n",
              "      <td>Angola</td>\n",
              "      <td>True</td>\n",
              "      <td>africa</td>\n",
              "      <td>sub_saharan_africa</td>\n",
              "      <td>ssa</td>\n",
              "      <td>middle_income</td>\n",
              "      <td>un_sub_saharan_africa</td>\n",
              "      <td>un_least_developed</td>\n",
              "    </tr>\n",
              "    <tr>\n",
              "      <th>4</th>\n",
              "      <td>aia</td>\n",
              "      <td>others</td>\n",
              "      <td>NaN</td>\n",
              "      <td>True</td>\n",
              "      <td>AI</td>\n",
              "      <td>AI</td>\n",
              "      <td>AIA</td>\n",
              "      <td>660.0</td>\n",
              "      <td>NaN</td>\n",
              "      <td>coastline</td>\n",
              "      <td>18.21667</td>\n",
              "      <td>-63.05000</td>\n",
              "      <td>christian</td>\n",
              "      <td>Anguilla</td>\n",
              "      <td>False</td>\n",
              "      <td>americas</td>\n",
              "      <td>america</td>\n",
              "      <td>NaN</td>\n",
              "      <td>NaN</td>\n",
              "      <td>un_latin_america_and_the_caribbean</td>\n",
              "      <td>un_not_least_developed</td>\n",
              "    </tr>\n",
              "  </tbody>\n",
              "</table>\n",
              "</div>"
            ],
            "text/plain": [
              "    geo  ...              un_sdg_ldc\n",
              "0  abkh  ...                     NaN\n",
              "1   abw  ...  un_not_least_developed\n",
              "2   afg  ...      un_least_developed\n",
              "3   ago  ...      un_least_developed\n",
              "4   aia  ...  un_not_least_developed\n",
              "\n",
              "[5 rows x 21 columns]"
            ]
          },
          "metadata": {
            "tags": []
          },
          "execution_count": 1
        }
      ]
    },
    {
      "cell_type": "markdown",
      "metadata": {
        "id": "AZmVTeCsX9RC"
      },
      "source": [
        "### Part 1. Join data"
      ]
    },
    {
      "cell_type": "markdown",
      "metadata": {
        "id": "GLzX58u4SfEy"
      },
      "source": [
        "First, join the `cell_phones` and `population` dataframes (with an inner join on `geo` and `time`).\n",
        "\n",
        "The resulting dataframe's shape should be: (8590, 4)"
      ]
    },
    {
      "cell_type": "code",
      "metadata": {
        "id": "GVV7Hnj4SXBa",
        "colab": {
          "base_uri": "https://localhost:8080/",
          "height": 459
        },
        "outputId": "4f5be26a-8853-4f62-b19a-847c2dd5ccac"
      },
      "source": [
        "join_df = pd.merge(cell_phones, population, on=['geo', 'time'])\n",
        "\n",
        "print(cell_phones.shape)\n",
        "print(population.shape)\n",
        "print(join_df.shape)\n",
        "print(cell_phones.head())\n",
        "print(population.head())\n",
        "join_df.head()"
      ],
      "execution_count": 2,
      "outputs": [
        {
          "output_type": "stream",
          "text": [
            "(7688, 3)\n",
            "(59297, 3)\n",
            "(7235, 4)\n",
            "   cell_phones_total  geo  time\n",
            "0                  0  afg  1965\n",
            "1                  0  afg  1970\n",
            "2                  0  afg  1975\n",
            "3                  0  afg  1976\n",
            "4                  0  afg  1977\n",
            "   geo  time  population_total\n",
            "0  afg  1800           3280000\n",
            "1  afg  1801           3280000\n",
            "2  afg  1802           3280000\n",
            "3  afg  1803           3280000\n",
            "4  afg  1804           3280000\n"
          ],
          "name": "stdout"
        },
        {
          "output_type": "execute_result",
          "data": {
            "text/html": [
              "<div>\n",
              "<style scoped>\n",
              "    .dataframe tbody tr th:only-of-type {\n",
              "        vertical-align: middle;\n",
              "    }\n",
              "\n",
              "    .dataframe tbody tr th {\n",
              "        vertical-align: top;\n",
              "    }\n",
              "\n",
              "    .dataframe thead th {\n",
              "        text-align: right;\n",
              "    }\n",
              "</style>\n",
              "<table border=\"1\" class=\"dataframe\">\n",
              "  <thead>\n",
              "    <tr style=\"text-align: right;\">\n",
              "      <th></th>\n",
              "      <th>cell_phones_total</th>\n",
              "      <th>geo</th>\n",
              "      <th>time</th>\n",
              "      <th>population_total</th>\n",
              "    </tr>\n",
              "  </thead>\n",
              "  <tbody>\n",
              "    <tr>\n",
              "      <th>0</th>\n",
              "      <td>0</td>\n",
              "      <td>afg</td>\n",
              "      <td>1965</td>\n",
              "      <td>9956318</td>\n",
              "    </tr>\n",
              "    <tr>\n",
              "      <th>1</th>\n",
              "      <td>0</td>\n",
              "      <td>afg</td>\n",
              "      <td>1970</td>\n",
              "      <td>11173654</td>\n",
              "    </tr>\n",
              "    <tr>\n",
              "      <th>2</th>\n",
              "      <td>0</td>\n",
              "      <td>afg</td>\n",
              "      <td>1975</td>\n",
              "      <td>12689164</td>\n",
              "    </tr>\n",
              "    <tr>\n",
              "      <th>3</th>\n",
              "      <td>0</td>\n",
              "      <td>afg</td>\n",
              "      <td>1976</td>\n",
              "      <td>12943093</td>\n",
              "    </tr>\n",
              "    <tr>\n",
              "      <th>4</th>\n",
              "      <td>0</td>\n",
              "      <td>afg</td>\n",
              "      <td>1977</td>\n",
              "      <td>13171294</td>\n",
              "    </tr>\n",
              "  </tbody>\n",
              "</table>\n",
              "</div>"
            ],
            "text/plain": [
              "   cell_phones_total  geo  time  population_total\n",
              "0                  0  afg  1965           9956318\n",
              "1                  0  afg  1970          11173654\n",
              "2                  0  afg  1975          12689164\n",
              "3                  0  afg  1976          12943093\n",
              "4                  0  afg  1977          13171294"
            ]
          },
          "metadata": {
            "tags": []
          },
          "execution_count": 2
        }
      ]
    },
    {
      "cell_type": "markdown",
      "metadata": {
        "id": "xsXpDbwwW241"
      },
      "source": [
        "Then, select the `geo` and `country` columns from the `geo_country_codes` dataframe, and join with your population and cell phone data.\n",
        "\n",
        "The resulting dataframe's shape should be: (8590, 5)"
      ]
    },
    {
      "cell_type": "code",
      "metadata": {
        "id": "6wro5Rc9RY-A",
        "colab": {
          "base_uri": "https://localhost:8080/"
        },
        "outputId": "8175f1b8-7668-455a-b890-de449fb4673b"
      },
      "source": [
        "merged = pd.merge(join_df, geo_country_codes, on=['geo'])\n",
        "all_columns = list(merged.columns.values)\n",
        "keep_columns = ['cell_phones_total', 'geo', 'time', 'population_total', 'country']\n",
        "drop_columns = [x for x in all_columns if x not in keep_columns]\n",
        "merged = merged.drop(columns=drop_columns)\n",
        "\n",
        "print(merged.head())\n",
        "merged.dtypes"
      ],
      "execution_count": 18,
      "outputs": [
        {
          "output_type": "stream",
          "text": [
            "   cell_phones_total  geo  time  population_total      country\n",
            "0                  0  afg  1965           9956318  Afghanistan\n",
            "1                  0  afg  1970          11173654  Afghanistan\n",
            "2                  0  afg  1975          12689164  Afghanistan\n",
            "3                  0  afg  1976          12943093  Afghanistan\n",
            "4                  0  afg  1977          13171294  Afghanistan\n"
          ],
          "name": "stdout"
        },
        {
          "output_type": "execute_result",
          "data": {
            "text/plain": [
              "cell_phones_total     int64\n",
              "geo                  object\n",
              "time                  int64\n",
              "population_total      int64\n",
              "country              object\n",
              "dtype: object"
            ]
          },
          "metadata": {
            "tags": []
          },
          "execution_count": 18
        }
      ]
    },
    {
      "cell_type": "markdown",
      "metadata": {
        "id": "oK96Uj7vYjFX"
      },
      "source": [
        "### Part 2. Make features"
      ]
    },
    {
      "cell_type": "markdown",
      "metadata": {
        "id": "AD2fBNrOYzCG"
      },
      "source": [
        "Calculate the number of cell phones per person, and add this column onto your dataframe.\n",
        "\n",
        "(You've calculated correctly if you get 1.220 cell phones per person in the United States in 2017.)"
      ]
    },
    {
      "cell_type": "code",
      "metadata": {
        "colab": {
          "base_uri": "https://localhost:8080/",
          "height": 1000
        },
        "id": "d4L1mBEOV7s1",
        "outputId": "04a33a96-176c-4986-f4ee-451b79b98492"
      },
      "source": [
        "# Calculate the number of cell phones per person, and add this column onto your dataframe.\n",
        "# (You've calculated correctly if you get 1.220 cell phones per person in the United States in 2017.)\n",
        "\n",
        "merged['cell_per_person'] = merged['cell_phones_total'].div(merged['population_total'])\n",
        "usa = merged[merged['country'] == 'United States']\n",
        "usa"
      ],
      "execution_count": 20,
      "outputs": [
        {
          "output_type": "execute_result",
          "data": {
            "text/html": [
              "<div>\n",
              "<style scoped>\n",
              "    .dataframe tbody tr th:only-of-type {\n",
              "        vertical-align: middle;\n",
              "    }\n",
              "\n",
              "    .dataframe tbody tr th {\n",
              "        vertical-align: top;\n",
              "    }\n",
              "\n",
              "    .dataframe thead th {\n",
              "        text-align: right;\n",
              "    }\n",
              "</style>\n",
              "<table border=\"1\" class=\"dataframe\">\n",
              "  <thead>\n",
              "    <tr style=\"text-align: right;\">\n",
              "      <th></th>\n",
              "      <th>cell_phones_total</th>\n",
              "      <th>geo</th>\n",
              "      <th>time</th>\n",
              "      <th>population_total</th>\n",
              "      <th>country</th>\n",
              "      <th>cell_per_person</th>\n",
              "    </tr>\n",
              "  </thead>\n",
              "  <tbody>\n",
              "    <tr>\n",
              "      <th>6874</th>\n",
              "      <td>0</td>\n",
              "      <td>usa</td>\n",
              "      <td>1965</td>\n",
              "      <td>199733679</td>\n",
              "      <td>United States</td>\n",
              "      <td>0.000000</td>\n",
              "    </tr>\n",
              "    <tr>\n",
              "      <th>6875</th>\n",
              "      <td>0</td>\n",
              "      <td>usa</td>\n",
              "      <td>1970</td>\n",
              "      <td>209513340</td>\n",
              "      <td>United States</td>\n",
              "      <td>0.000000</td>\n",
              "    </tr>\n",
              "    <tr>\n",
              "      <th>6876</th>\n",
              "      <td>0</td>\n",
              "      <td>usa</td>\n",
              "      <td>1975</td>\n",
              "      <td>219081250</td>\n",
              "      <td>United States</td>\n",
              "      <td>0.000000</td>\n",
              "    </tr>\n",
              "    <tr>\n",
              "      <th>6877</th>\n",
              "      <td>0</td>\n",
              "      <td>usa</td>\n",
              "      <td>1976</td>\n",
              "      <td>221086427</td>\n",
              "      <td>United States</td>\n",
              "      <td>0.000000</td>\n",
              "    </tr>\n",
              "    <tr>\n",
              "      <th>6878</th>\n",
              "      <td>0</td>\n",
              "      <td>usa</td>\n",
              "      <td>1977</td>\n",
              "      <td>223135659</td>\n",
              "      <td>United States</td>\n",
              "      <td>0.000000</td>\n",
              "    </tr>\n",
              "    <tr>\n",
              "      <th>6879</th>\n",
              "      <td>0</td>\n",
              "      <td>usa</td>\n",
              "      <td>1978</td>\n",
              "      <td>225223307</td>\n",
              "      <td>United States</td>\n",
              "      <td>0.000000</td>\n",
              "    </tr>\n",
              "    <tr>\n",
              "      <th>6880</th>\n",
              "      <td>0</td>\n",
              "      <td>usa</td>\n",
              "      <td>1979</td>\n",
              "      <td>227339321</td>\n",
              "      <td>United States</td>\n",
              "      <td>0.000000</td>\n",
              "    </tr>\n",
              "    <tr>\n",
              "      <th>6881</th>\n",
              "      <td>0</td>\n",
              "      <td>usa</td>\n",
              "      <td>1980</td>\n",
              "      <td>229476360</td>\n",
              "      <td>United States</td>\n",
              "      <td>0.000000</td>\n",
              "    </tr>\n",
              "    <tr>\n",
              "      <th>6882</th>\n",
              "      <td>91600</td>\n",
              "      <td>usa</td>\n",
              "      <td>1984</td>\n",
              "      <td>238256849</td>\n",
              "      <td>United States</td>\n",
              "      <td>0.000384</td>\n",
              "    </tr>\n",
              "    <tr>\n",
              "      <th>6883</th>\n",
              "      <td>340200</td>\n",
              "      <td>usa</td>\n",
              "      <td>1985</td>\n",
              "      <td>240499822</td>\n",
              "      <td>United States</td>\n",
              "      <td>0.001415</td>\n",
              "    </tr>\n",
              "    <tr>\n",
              "      <th>6884</th>\n",
              "      <td>681800</td>\n",
              "      <td>usa</td>\n",
              "      <td>1986</td>\n",
              "      <td>242763137</td>\n",
              "      <td>United States</td>\n",
              "      <td>0.002808</td>\n",
              "    </tr>\n",
              "    <tr>\n",
              "      <th>6885</th>\n",
              "      <td>1231000</td>\n",
              "      <td>usa</td>\n",
              "      <td>1987</td>\n",
              "      <td>245052780</td>\n",
              "      <td>United States</td>\n",
              "      <td>0.005023</td>\n",
              "    </tr>\n",
              "    <tr>\n",
              "      <th>6886</th>\n",
              "      <td>2069000</td>\n",
              "      <td>usa</td>\n",
              "      <td>1988</td>\n",
              "      <td>247372258</td>\n",
              "      <td>United States</td>\n",
              "      <td>0.008364</td>\n",
              "    </tr>\n",
              "    <tr>\n",
              "      <th>6887</th>\n",
              "      <td>3509000</td>\n",
              "      <td>usa</td>\n",
              "      <td>1989</td>\n",
              "      <td>249725809</td>\n",
              "      <td>United States</td>\n",
              "      <td>0.014051</td>\n",
              "    </tr>\n",
              "    <tr>\n",
              "      <th>6888</th>\n",
              "      <td>5283000</td>\n",
              "      <td>usa</td>\n",
              "      <td>1990</td>\n",
              "      <td>252120309</td>\n",
              "      <td>United States</td>\n",
              "      <td>0.020954</td>\n",
              "    </tr>\n",
              "    <tr>\n",
              "      <th>6889</th>\n",
              "      <td>7557000</td>\n",
              "      <td>usa</td>\n",
              "      <td>1991</td>\n",
              "      <td>254539371</td>\n",
              "      <td>United States</td>\n",
              "      <td>0.029689</td>\n",
              "    </tr>\n",
              "    <tr>\n",
              "      <th>6890</th>\n",
              "      <td>11030000</td>\n",
              "      <td>usa</td>\n",
              "      <td>1992</td>\n",
              "      <td>256990608</td>\n",
              "      <td>United States</td>\n",
              "      <td>0.042920</td>\n",
              "    </tr>\n",
              "    <tr>\n",
              "      <th>6891</th>\n",
              "      <td>16010000</td>\n",
              "      <td>usa</td>\n",
              "      <td>1993</td>\n",
              "      <td>259532130</td>\n",
              "      <td>United States</td>\n",
              "      <td>0.061688</td>\n",
              "    </tr>\n",
              "    <tr>\n",
              "      <th>6892</th>\n",
              "      <td>24130000</td>\n",
              "      <td>usa</td>\n",
              "      <td>1994</td>\n",
              "      <td>262241204</td>\n",
              "      <td>United States</td>\n",
              "      <td>0.092015</td>\n",
              "    </tr>\n",
              "    <tr>\n",
              "      <th>6893</th>\n",
              "      <td>33790000</td>\n",
              "      <td>usa</td>\n",
              "      <td>1995</td>\n",
              "      <td>265163741</td>\n",
              "      <td>United States</td>\n",
              "      <td>0.127431</td>\n",
              "    </tr>\n",
              "    <tr>\n",
              "      <th>6894</th>\n",
              "      <td>44040000</td>\n",
              "      <td>usa</td>\n",
              "      <td>1996</td>\n",
              "      <td>268335008</td>\n",
              "      <td>United States</td>\n",
              "      <td>0.164123</td>\n",
              "    </tr>\n",
              "    <tr>\n",
              "      <th>6895</th>\n",
              "      <td>55310000</td>\n",
              "      <td>usa</td>\n",
              "      <td>1997</td>\n",
              "      <td>271713634</td>\n",
              "      <td>United States</td>\n",
              "      <td>0.203560</td>\n",
              "    </tr>\n",
              "    <tr>\n",
              "      <th>6896</th>\n",
              "      <td>69210000</td>\n",
              "      <td>usa</td>\n",
              "      <td>1998</td>\n",
              "      <td>275175309</td>\n",
              "      <td>United States</td>\n",
              "      <td>0.251512</td>\n",
              "    </tr>\n",
              "    <tr>\n",
              "      <th>6897</th>\n",
              "      <td>86050000</td>\n",
              "      <td>usa</td>\n",
              "      <td>1999</td>\n",
              "      <td>278548148</td>\n",
              "      <td>United States</td>\n",
              "      <td>0.308923</td>\n",
              "    </tr>\n",
              "    <tr>\n",
              "      <th>6898</th>\n",
              "      <td>109500000</td>\n",
              "      <td>usa</td>\n",
              "      <td>2000</td>\n",
              "      <td>281710914</td>\n",
              "      <td>United States</td>\n",
              "      <td>0.388696</td>\n",
              "    </tr>\n",
              "    <tr>\n",
              "      <th>6899</th>\n",
              "      <td>128500000</td>\n",
              "      <td>usa</td>\n",
              "      <td>2001</td>\n",
              "      <td>284607992</td>\n",
              "      <td>United States</td>\n",
              "      <td>0.451498</td>\n",
              "    </tr>\n",
              "    <tr>\n",
              "      <th>6900</th>\n",
              "      <td>141800000</td>\n",
              "      <td>usa</td>\n",
              "      <td>2002</td>\n",
              "      <td>287279312</td>\n",
              "      <td>United States</td>\n",
              "      <td>0.493596</td>\n",
              "    </tr>\n",
              "    <tr>\n",
              "      <th>6901</th>\n",
              "      <td>160600000</td>\n",
              "      <td>usa</td>\n",
              "      <td>2003</td>\n",
              "      <td>289815567</td>\n",
              "      <td>United States</td>\n",
              "      <td>0.554146</td>\n",
              "    </tr>\n",
              "    <tr>\n",
              "      <th>6902</th>\n",
              "      <td>184800000</td>\n",
              "      <td>usa</td>\n",
              "      <td>2004</td>\n",
              "      <td>292354663</td>\n",
              "      <td>United States</td>\n",
              "      <td>0.632109</td>\n",
              "    </tr>\n",
              "    <tr>\n",
              "      <th>6903</th>\n",
              "      <td>203700000</td>\n",
              "      <td>usa</td>\n",
              "      <td>2005</td>\n",
              "      <td>294993509</td>\n",
              "      <td>United States</td>\n",
              "      <td>0.690524</td>\n",
              "    </tr>\n",
              "    <tr>\n",
              "      <th>6904</th>\n",
              "      <td>229600000</td>\n",
              "      <td>usa</td>\n",
              "      <td>2006</td>\n",
              "      <td>297758977</td>\n",
              "      <td>United States</td>\n",
              "      <td>0.771093</td>\n",
              "    </tr>\n",
              "    <tr>\n",
              "      <th>6905</th>\n",
              "      <td>249300000</td>\n",
              "      <td>usa</td>\n",
              "      <td>2007</td>\n",
              "      <td>300608425</td>\n",
              "      <td>United States</td>\n",
              "      <td>0.829318</td>\n",
              "    </tr>\n",
              "    <tr>\n",
              "      <th>6906</th>\n",
              "      <td>261300000</td>\n",
              "      <td>usa</td>\n",
              "      <td>2008</td>\n",
              "      <td>303486022</td>\n",
              "      <td>United States</td>\n",
              "      <td>0.860995</td>\n",
              "    </tr>\n",
              "    <tr>\n",
              "      <th>6907</th>\n",
              "      <td>274300000</td>\n",
              "      <td>usa</td>\n",
              "      <td>2009</td>\n",
              "      <td>306307565</td>\n",
              "      <td>United States</td>\n",
              "      <td>0.895505</td>\n",
              "    </tr>\n",
              "    <tr>\n",
              "      <th>6908</th>\n",
              "      <td>278900000</td>\n",
              "      <td>usa</td>\n",
              "      <td>2010</td>\n",
              "      <td>309011469</td>\n",
              "      <td>United States</td>\n",
              "      <td>0.902555</td>\n",
              "    </tr>\n",
              "    <tr>\n",
              "      <th>6909</th>\n",
              "      <td>331600000</td>\n",
              "      <td>usa</td>\n",
              "      <td>2011</td>\n",
              "      <td>311584051</td>\n",
              "      <td>United States</td>\n",
              "      <td>1.064239</td>\n",
              "    </tr>\n",
              "  </tbody>\n",
              "</table>\n",
              "</div>"
            ],
            "text/plain": [
              "      cell_phones_total  geo  ...        country  cell_per_person\n",
              "6874                  0  usa  ...  United States         0.000000\n",
              "6875                  0  usa  ...  United States         0.000000\n",
              "6876                  0  usa  ...  United States         0.000000\n",
              "6877                  0  usa  ...  United States         0.000000\n",
              "6878                  0  usa  ...  United States         0.000000\n",
              "6879                  0  usa  ...  United States         0.000000\n",
              "6880                  0  usa  ...  United States         0.000000\n",
              "6881                  0  usa  ...  United States         0.000000\n",
              "6882              91600  usa  ...  United States         0.000384\n",
              "6883             340200  usa  ...  United States         0.001415\n",
              "6884             681800  usa  ...  United States         0.002808\n",
              "6885            1231000  usa  ...  United States         0.005023\n",
              "6886            2069000  usa  ...  United States         0.008364\n",
              "6887            3509000  usa  ...  United States         0.014051\n",
              "6888            5283000  usa  ...  United States         0.020954\n",
              "6889            7557000  usa  ...  United States         0.029689\n",
              "6890           11030000  usa  ...  United States         0.042920\n",
              "6891           16010000  usa  ...  United States         0.061688\n",
              "6892           24130000  usa  ...  United States         0.092015\n",
              "6893           33790000  usa  ...  United States         0.127431\n",
              "6894           44040000  usa  ...  United States         0.164123\n",
              "6895           55310000  usa  ...  United States         0.203560\n",
              "6896           69210000  usa  ...  United States         0.251512\n",
              "6897           86050000  usa  ...  United States         0.308923\n",
              "6898          109500000  usa  ...  United States         0.388696\n",
              "6899          128500000  usa  ...  United States         0.451498\n",
              "6900          141800000  usa  ...  United States         0.493596\n",
              "6901          160600000  usa  ...  United States         0.554146\n",
              "6902          184800000  usa  ...  United States         0.632109\n",
              "6903          203700000  usa  ...  United States         0.690524\n",
              "6904          229600000  usa  ...  United States         0.771093\n",
              "6905          249300000  usa  ...  United States         0.829318\n",
              "6906          261300000  usa  ...  United States         0.860995\n",
              "6907          274300000  usa  ...  United States         0.895505\n",
              "6908          278900000  usa  ...  United States         0.902555\n",
              "6909          331600000  usa  ...  United States         1.064239\n",
              "\n",
              "[36 rows x 6 columns]"
            ]
          },
          "metadata": {
            "tags": []
          },
          "execution_count": 20
        }
      ]
    },
    {
      "cell_type": "markdown",
      "metadata": {
        "id": "S3QFdsnRZMH6"
      },
      "source": [
        "Modify the `geo` column to make the geo codes uppercase instead of lowercase."
      ]
    },
    {
      "cell_type": "code",
      "metadata": {
        "id": "Hi-XF7Z-RdLe",
        "colab": {
          "base_uri": "https://localhost:8080/",
          "height": 419
        },
        "outputId": "a390ad74-0d43-4e83-c4ac-b319dd8a0b15"
      },
      "source": [
        "code = 'abc'\n",
        "\n",
        "def change_uppercase(c_code):\n",
        "  return c_code.upper()\n",
        "\n",
        "merged['geo'] = merged['geo'].apply(change_uppercase)\n",
        "merged"
      ],
      "execution_count": 21,
      "outputs": [
        {
          "output_type": "execute_result",
          "data": {
            "text/html": [
              "<div>\n",
              "<style scoped>\n",
              "    .dataframe tbody tr th:only-of-type {\n",
              "        vertical-align: middle;\n",
              "    }\n",
              "\n",
              "    .dataframe tbody tr th {\n",
              "        vertical-align: top;\n",
              "    }\n",
              "\n",
              "    .dataframe thead th {\n",
              "        text-align: right;\n",
              "    }\n",
              "</style>\n",
              "<table border=\"1\" class=\"dataframe\">\n",
              "  <thead>\n",
              "    <tr style=\"text-align: right;\">\n",
              "      <th></th>\n",
              "      <th>cell_phones_total</th>\n",
              "      <th>geo</th>\n",
              "      <th>time</th>\n",
              "      <th>population_total</th>\n",
              "      <th>country</th>\n",
              "      <th>cell_per_person</th>\n",
              "    </tr>\n",
              "  </thead>\n",
              "  <tbody>\n",
              "    <tr>\n",
              "      <th>0</th>\n",
              "      <td>0</td>\n",
              "      <td>AFG</td>\n",
              "      <td>1965</td>\n",
              "      <td>9956318</td>\n",
              "      <td>Afghanistan</td>\n",
              "      <td>0.000000</td>\n",
              "    </tr>\n",
              "    <tr>\n",
              "      <th>1</th>\n",
              "      <td>0</td>\n",
              "      <td>AFG</td>\n",
              "      <td>1970</td>\n",
              "      <td>11173654</td>\n",
              "      <td>Afghanistan</td>\n",
              "      <td>0.000000</td>\n",
              "    </tr>\n",
              "    <tr>\n",
              "      <th>2</th>\n",
              "      <td>0</td>\n",
              "      <td>AFG</td>\n",
              "      <td>1975</td>\n",
              "      <td>12689164</td>\n",
              "      <td>Afghanistan</td>\n",
              "      <td>0.000000</td>\n",
              "    </tr>\n",
              "    <tr>\n",
              "      <th>3</th>\n",
              "      <td>0</td>\n",
              "      <td>AFG</td>\n",
              "      <td>1976</td>\n",
              "      <td>12943093</td>\n",
              "      <td>Afghanistan</td>\n",
              "      <td>0.000000</td>\n",
              "    </tr>\n",
              "    <tr>\n",
              "      <th>4</th>\n",
              "      <td>0</td>\n",
              "      <td>AFG</td>\n",
              "      <td>1977</td>\n",
              "      <td>13171294</td>\n",
              "      <td>Afghanistan</td>\n",
              "      <td>0.000000</td>\n",
              "    </tr>\n",
              "    <tr>\n",
              "      <th>...</th>\n",
              "      <td>...</td>\n",
              "      <td>...</td>\n",
              "      <td>...</td>\n",
              "      <td>...</td>\n",
              "      <td>...</td>\n",
              "      <td>...</td>\n",
              "    </tr>\n",
              "    <tr>\n",
              "      <th>7230</th>\n",
              "      <td>1226000</td>\n",
              "      <td>ZWE</td>\n",
              "      <td>2007</td>\n",
              "      <td>12255920</td>\n",
              "      <td>Zimbabwe</td>\n",
              "      <td>0.100033</td>\n",
              "    </tr>\n",
              "    <tr>\n",
              "      <th>7231</th>\n",
              "      <td>1655000</td>\n",
              "      <td>ZWE</td>\n",
              "      <td>2008</td>\n",
              "      <td>12379553</td>\n",
              "      <td>Zimbabwe</td>\n",
              "      <td>0.133688</td>\n",
              "    </tr>\n",
              "    <tr>\n",
              "      <th>7232</th>\n",
              "      <td>3991000</td>\n",
              "      <td>ZWE</td>\n",
              "      <td>2009</td>\n",
              "      <td>12526964</td>\n",
              "      <td>Zimbabwe</td>\n",
              "      <td>0.318593</td>\n",
              "    </tr>\n",
              "    <tr>\n",
              "      <th>7233</th>\n",
              "      <td>7700000</td>\n",
              "      <td>ZWE</td>\n",
              "      <td>2010</td>\n",
              "      <td>12697728</td>\n",
              "      <td>Zimbabwe</td>\n",
              "      <td>0.606408</td>\n",
              "    </tr>\n",
              "    <tr>\n",
              "      <th>7234</th>\n",
              "      <td>9200000</td>\n",
              "      <td>ZWE</td>\n",
              "      <td>2011</td>\n",
              "      <td>12894323</td>\n",
              "      <td>Zimbabwe</td>\n",
              "      <td>0.713492</td>\n",
              "    </tr>\n",
              "  </tbody>\n",
              "</table>\n",
              "<p>7235 rows × 6 columns</p>\n",
              "</div>"
            ],
            "text/plain": [
              "      cell_phones_total  geo  ...      country  cell_per_person\n",
              "0                     0  AFG  ...  Afghanistan         0.000000\n",
              "1                     0  AFG  ...  Afghanistan         0.000000\n",
              "2                     0  AFG  ...  Afghanistan         0.000000\n",
              "3                     0  AFG  ...  Afghanistan         0.000000\n",
              "4                     0  AFG  ...  Afghanistan         0.000000\n",
              "...                 ...  ...  ...          ...              ...\n",
              "7230            1226000  ZWE  ...     Zimbabwe         0.100033\n",
              "7231            1655000  ZWE  ...     Zimbabwe         0.133688\n",
              "7232            3991000  ZWE  ...     Zimbabwe         0.318593\n",
              "7233            7700000  ZWE  ...     Zimbabwe         0.606408\n",
              "7234            9200000  ZWE  ...     Zimbabwe         0.713492\n",
              "\n",
              "[7235 rows x 6 columns]"
            ]
          },
          "metadata": {
            "tags": []
          },
          "execution_count": 21
        }
      ]
    },
    {
      "cell_type": "markdown",
      "metadata": {
        "id": "hlPDAFCfaF6C"
      },
      "source": [
        "### Part 3. Process data"
      ]
    },
    {
      "cell_type": "markdown",
      "metadata": {
        "id": "k-pudNWve2SQ"
      },
      "source": [
        "Use the describe function, to describe your dataframe's numeric columns, and then its non-numeric columns.\n",
        "\n",
        "(You'll see the time period ranges from 1960 to 2017, and there are 195 unique countries represented.)"
      ]
    },
    {
      "cell_type": "markdown",
      "metadata": {
        "id": "zALg-RrYaLcI"
      },
      "source": [
        "In 2017, what were the top 5 countries with the most cell phones total?\n",
        "\n",
        "Your list of countries should have these totals:\n",
        "\n",
        "| country | cell phones total |\n",
        "|:-------:|:-----------------:|\n",
        "|    ?    |     1,474,097,000 |\n",
        "|    ?    |     1,168,902,277 |\n",
        "|    ?    |       458,923,202 |\n",
        "|    ?    |       395,881,000 |\n",
        "|    ?    |       236,488,548 |\n",
        "\n"
      ]
    },
    {
      "cell_type": "code",
      "metadata": {
        "id": "JdlWvezHaZxD"
      },
      "source": [
        "# # This optional code formats float numbers with comma separators\n",
        "\n",
        "# pd.options.display.float_format = '{:,}'.format"
      ],
      "execution_count": 2,
      "outputs": []
    },
    {
      "cell_type": "code",
      "metadata": {
        "colab": {
          "base_uri": "https://localhost:8080/",
          "height": 297
        },
        "id": "1tZDa-VLZyj_",
        "outputId": "554df30a-e311-403f-e914-0935433839fb"
      },
      "source": [
        "merged.describe()"
      ],
      "execution_count": 22,
      "outputs": [
        {
          "output_type": "execute_result",
          "data": {
            "text/html": [
              "<div>\n",
              "<style scoped>\n",
              "    .dataframe tbody tr th:only-of-type {\n",
              "        vertical-align: middle;\n",
              "    }\n",
              "\n",
              "    .dataframe tbody tr th {\n",
              "        vertical-align: top;\n",
              "    }\n",
              "\n",
              "    .dataframe thead th {\n",
              "        text-align: right;\n",
              "    }\n",
              "</style>\n",
              "<table border=\"1\" class=\"dataframe\">\n",
              "  <thead>\n",
              "    <tr style=\"text-align: right;\">\n",
              "      <th></th>\n",
              "      <th>cell_phones_total</th>\n",
              "      <th>time</th>\n",
              "      <th>population_total</th>\n",
              "      <th>cell_per_person</th>\n",
              "    </tr>\n",
              "  </thead>\n",
              "  <tbody>\n",
              "    <tr>\n",
              "      <th>count</th>\n",
              "      <td>7.235000e+03</td>\n",
              "      <td>7235.000000</td>\n",
              "      <td>7.235000e+03</td>\n",
              "      <td>7235.000000</td>\n",
              "    </tr>\n",
              "    <tr>\n",
              "      <th>mean</th>\n",
              "      <td>4.887558e+06</td>\n",
              "      <td>1991.897858</td>\n",
              "      <td>2.896330e+07</td>\n",
              "      <td>0.170550</td>\n",
              "    </tr>\n",
              "    <tr>\n",
              "      <th>std</th>\n",
              "      <td>3.204909e+07</td>\n",
              "      <td>11.859545</td>\n",
              "      <td>1.131664e+08</td>\n",
              "      <td>0.346734</td>\n",
              "    </tr>\n",
              "    <tr>\n",
              "      <th>min</th>\n",
              "      <td>0.000000e+00</td>\n",
              "      <td>1965.000000</td>\n",
              "      <td>5.388000e+03</td>\n",
              "      <td>0.000000</td>\n",
              "    </tr>\n",
              "    <tr>\n",
              "      <th>25%</th>\n",
              "      <td>0.000000e+00</td>\n",
              "      <td>1982.000000</td>\n",
              "      <td>1.473502e+06</td>\n",
              "      <td>0.000000</td>\n",
              "    </tr>\n",
              "    <tr>\n",
              "      <th>50%</th>\n",
              "      <td>3.000000e+02</td>\n",
              "      <td>1992.000000</td>\n",
              "      <td>5.582980e+06</td>\n",
              "      <td>0.000054</td>\n",
              "    </tr>\n",
              "    <tr>\n",
              "      <th>75%</th>\n",
              "      <td>4.061500e+05</td>\n",
              "      <td>2002.000000</td>\n",
              "      <td>1.732264e+07</td>\n",
              "      <td>0.114040</td>\n",
              "    </tr>\n",
              "    <tr>\n",
              "      <th>max</th>\n",
              "      <td>9.863000e+08</td>\n",
              "      <td>2011.000000</td>\n",
              "      <td>1.376498e+09</td>\n",
              "      <td>2.130849</td>\n",
              "    </tr>\n",
              "  </tbody>\n",
              "</table>\n",
              "</div>"
            ],
            "text/plain": [
              "       cell_phones_total         time  population_total  cell_per_person\n",
              "count       7.235000e+03  7235.000000      7.235000e+03      7235.000000\n",
              "mean        4.887558e+06  1991.897858      2.896330e+07         0.170550\n",
              "std         3.204909e+07    11.859545      1.131664e+08         0.346734\n",
              "min         0.000000e+00  1965.000000      5.388000e+03         0.000000\n",
              "25%         0.000000e+00  1982.000000      1.473502e+06         0.000000\n",
              "50%         3.000000e+02  1992.000000      5.582980e+06         0.000054\n",
              "75%         4.061500e+05  2002.000000      1.732264e+07         0.114040\n",
              "max         9.863000e+08  2011.000000      1.376498e+09         2.130849"
            ]
          },
          "metadata": {
            "tags": []
          },
          "execution_count": 22
        }
      ]
    },
    {
      "cell_type": "code",
      "metadata": {
        "colab": {
          "base_uri": "https://localhost:8080/",
          "height": 173
        },
        "id": "9wtFuojQZ8JD",
        "outputId": "69cf0e67-ecc7-4a56-e8c4-ca7cf05731d9"
      },
      "source": [
        "merged.describe(exclude='number')"
      ],
      "execution_count": 24,
      "outputs": [
        {
          "output_type": "execute_result",
          "data": {
            "text/html": [
              "<div>\n",
              "<style scoped>\n",
              "    .dataframe tbody tr th:only-of-type {\n",
              "        vertical-align: middle;\n",
              "    }\n",
              "\n",
              "    .dataframe tbody tr th {\n",
              "        vertical-align: top;\n",
              "    }\n",
              "\n",
              "    .dataframe thead th {\n",
              "        text-align: right;\n",
              "    }\n",
              "</style>\n",
              "<table border=\"1\" class=\"dataframe\">\n",
              "  <thead>\n",
              "    <tr style=\"text-align: right;\">\n",
              "      <th></th>\n",
              "      <th>geo</th>\n",
              "      <th>country</th>\n",
              "    </tr>\n",
              "  </thead>\n",
              "  <tbody>\n",
              "    <tr>\n",
              "      <th>count</th>\n",
              "      <td>7235</td>\n",
              "      <td>7235</td>\n",
              "    </tr>\n",
              "    <tr>\n",
              "      <th>unique</th>\n",
              "      <td>193</td>\n",
              "      <td>193</td>\n",
              "    </tr>\n",
              "    <tr>\n",
              "      <th>top</th>\n",
              "      <td>ARG</td>\n",
              "      <td>Sudan</td>\n",
              "    </tr>\n",
              "    <tr>\n",
              "      <th>freq</th>\n",
              "      <td>39</td>\n",
              "      <td>39</td>\n",
              "    </tr>\n",
              "  </tbody>\n",
              "</table>\n",
              "</div>"
            ],
            "text/plain": [
              "         geo country\n",
              "count   7235    7235\n",
              "unique   193     193\n",
              "top      ARG   Sudan\n",
              "freq      39      39"
            ]
          },
          "metadata": {
            "tags": []
          },
          "execution_count": 24
        }
      ]
    },
    {
      "cell_type": "markdown",
      "metadata": {
        "id": "03V3Wln_h0dj"
      },
      "source": [
        "2017 was the first year that China had more cell phones than people.\n",
        "\n",
        "What was the first year that the USA had more cell phones than people?"
      ]
    },
    {
      "cell_type": "markdown",
      "metadata": {
        "id": "6J7iwMnTg8KZ"
      },
      "source": [
        "### Part 4. Reshape data"
      ]
    },
    {
      "cell_type": "markdown",
      "metadata": {
        "id": "LP9InazRkUxG"
      },
      "source": [
        "*This part is not needed to pass the sprint challenge, only to get a 3! Only work on this after completing the other sections.*\n",
        "\n",
        "Create a pivot table:\n",
        "- Columns: Years 2007—2017\n",
        "- Rows: China, India, United States, Indonesia, Brazil (order doesn't matter)\n",
        "- Values: Cell Phones Total\n",
        "\n",
        "The table's shape should be: (5, 11)"
      ]
    },
    {
      "cell_type": "markdown",
      "metadata": {
        "id": "CNKTu2DCnAo6"
      },
      "source": [
        "Sort these 5 countries, by biggest increase in cell phones from 2007 to 2017.\n",
        "\n",
        "Which country had 935,282,277 more cell phones in 2017 versus 2007?"
      ]
    },
    {
      "cell_type": "markdown",
      "metadata": {
        "id": "7iHkMsa3Rorh"
      },
      "source": [
        "If you have the time and curiosity, what other questions can you ask and answer with this data?"
      ]
    },
    {
      "cell_type": "markdown",
      "metadata": {
        "id": "vtcAJOAV9k3X"
      },
      "source": [
        "## Data Storytelling\n",
        "\n",
        "In this part of the sprint challenge you'll work with a dataset from **FiveThirtyEight's article, [Every Guest Jon Stewart Ever Had On ‘The Daily Show’](https://fivethirtyeight.com/features/every-guest-jon-stewart-ever-had-on-the-daily-show/)**!"
      ]
    },
    {
      "cell_type": "markdown",
      "metadata": {
        "id": "UtjoIqvm9yFg"
      },
      "source": [
        "### Part 0 — Run this starter code\n",
        "\n",
        "You don't need to add or change anything here. Just run this cell and it loads the data for you, into a dataframe named `df`.\n",
        "\n",
        "(You can explore the data if you want, but it's not required to pass the Sprint Challenge.)"
      ]
    },
    {
      "cell_type": "code",
      "metadata": {
        "id": "tYujbhIz9zKU"
      },
      "source": [
        "# %matplotlib inline\n",
        "# import matplotlib.pyplot as plt\n",
        "# import numpy as np\n",
        "# import pandas as pd\n",
        "# import matplotlib.dates as md\n",
        "\n",
        "# url = 'https://raw.githubusercontent.com/fivethirtyeight/data/master/daily-show-guests/daily_show_guests.csv'\n",
        "# df4 = pd.read_csv(url).rename(columns={'YEAR': 'Year', 'Raw_Guest_List': 'Guest'})\n",
        "\n",
        "# def get_occupation(group):\n",
        "#     if group in ['Acting', 'Comedy', 'Musician']:\n",
        "#         return 'Acting, Comedy & Music'\n",
        "#     elif group in ['Media', 'media']:\n",
        "#         return 'Media'\n",
        "#     elif group in ['Government', 'Politician', 'Political Aide']:\n",
        "#         return 'Government and Politics'\n",
        "#     else:\n",
        "#         return 'Other'\n",
        "      \n",
        "# df4['Occupation'] = df4['Group'].apply(get_occupation)\n",
        "# # df4['Year'] = pd.to_datetime(df4['Year'])"
      ],
      "execution_count": 3,
      "outputs": []
    },
    {
      "cell_type": "markdown",
      "metadata": {
        "id": "5hjnMK3j90Rp"
      },
      "source": [
        "### Part 1 — What's the breakdown of guests’ occupations per year?\n",
        "\n",
        "For example, in 1999, what percentage of guests were actors, comedians, or musicians? What percentage were in the media? What percentage were in politics? What percentage were from another occupation?\n",
        "\n",
        "Then, what about in 2000? In 2001? And so on, up through 2015.\n",
        "\n",
        "So, **for each year of _The Daily Show_, calculate the percentage of guests from each occupation:**\n",
        "- Acting, Comedy & Music\n",
        "- Government and Politics\n",
        "- Media\n",
        "- Other\n",
        "\n",
        "#### Hints:\n",
        "You can make a crosstab. (See pandas documentation for examples, explanation, and parameters.)\n",
        "\n",
        "You'll know you've calculated correctly when the percentage of \"Acting, Comedy & Music\" guests is 90.36% in 1999, and 45% in 2015."
      ]
    },
    {
      "cell_type": "markdown",
      "metadata": {
        "id": "Kiq56dZb92LY"
      },
      "source": [
        "### Part 2 — Recreate this explanatory visualization:"
      ]
    },
    {
      "cell_type": "code",
      "metadata": {
        "id": "HKLDMWwP98vz"
      },
      "source": [
        "# from IPython.display import display, Image\n",
        "# png = 'https://fivethirtyeight.com/wp-content/uploads/2015/08/hickey-datalab-dailyshow.png'\n",
        "# example = Image(png, width=500)\n",
        "# display(example)"
      ],
      "execution_count": 4,
      "outputs": []
    },
    {
      "cell_type": "markdown",
      "metadata": {
        "id": "TK5fDIag9-F6"
      },
      "source": [
        "**Hints:**\n",
        "- You can choose any Python visualization library you want. I've verified the plot can be reproduced with matplotlib, pandas plot, or seaborn. I assume other libraries like altair or plotly would work too.\n",
        "- If you choose to use seaborn, you may want to upgrade the version to 0.9.0.\n",
        "\n",
        "**Expectations:** Your plot should include:\n",
        "- 3 lines visualizing \"occupation of guests, by year.\" The shapes of the lines should look roughly identical to 538's example. Each line should be a different color. (But you don't need to use the _same_ colors as 538.)\n",
        "- Legend or labels for the lines. (But you don't need each label positioned next to its line or colored like 538.)\n",
        "- Title in the upper left: _\"Who Got To Be On 'The Daily Show'?\"_ with more visual emphasis than the subtitle. (Bolder and/or larger font.)\n",
        "- Subtitle underneath the title: _\"Occupation of guests, by year\"_\n",
        "\n",
        "**Optional Bonus Challenge:**\n",
        "- Give your plot polished aesthetics, with improved resemblance to the 538 example.\n",
        "- Any visual element not specifically mentioned in the expectations is an optional bonus."
      ]
    }
  ]
}